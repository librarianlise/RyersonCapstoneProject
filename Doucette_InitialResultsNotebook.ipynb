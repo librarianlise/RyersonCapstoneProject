{
 "cells": [
  {
   "cell_type": "markdown",
   "metadata": {},
   "source": [
    "# Factors affecting Canadians’ decisions to obtain flu vaccinations\n",
    "## Intial Results and Code\n",
    "## Lise Doucette  |  July 23, 2019 \n"
   ]
  },
  {
   "cell_type": "markdown",
   "metadata": {},
   "source": [
    "## _Section 1: Comparisons of three classifiers_"
   ]
  },
  {
   "cell_type": "code",
   "execution_count": 54,
   "metadata": {},
   "outputs": [],
   "source": [
    "# import libraries (note that there is sometimes a DepreciationWarning given,\n",
    "# but it is not relevant to the specific functions I am using)\n",
    "\n",
    "import pandas as pd\n",
    "import numpy as np\n",
    "import matplotlib.pyplot as plt\n",
    "from sklearn.linear_model import LogisticRegression\n",
    "from sklearn.model_selection import train_test_split\n",
    "from sklearn.metrics import confusion_matrix\n",
    "from sklearn.metrics import classification_report\n",
    "from sklearn.ensemble import RandomForestClassifier\n",
    "from sklearn import metrics\n",
    "from sklearn.naive_bayes import GaussianNB\n",
    "from sklearn.tree import DecisionTreeClassifier\n",
    "from sklearn import tree"
   ]
  },
  {
   "cell_type": "code",
   "execution_count": 51,
   "metadata": {},
   "outputs": [],
   "source": [
    "# use a saved version of the data that is cleaned and ready for analysis\n",
    "# (the code to do the cleaning is CapstoneCodeCCHS.py at https://github.com/librarianlise/RyersonCapstoneProject/)\n",
    "\n",
    "df2=pd.read_csv('CapstoneDataCleaned.csv', sep=',')"
   ]
  },
  {
   "cell_type": "code",
   "execution_count": 52,
   "metadata": {
    "scrolled": false
   },
   "outputs": [
    {
     "data": {
      "text/html": [
       "<div>\n",
       "<style scoped>\n",
       "    .dataframe tbody tr th:only-of-type {\n",
       "        vertical-align: middle;\n",
       "    }\n",
       "\n",
       "    .dataframe tbody tr th {\n",
       "        vertical-align: top;\n",
       "    }\n",
       "\n",
       "    .dataframe thead th {\n",
       "        text-align: right;\n",
       "    }\n",
       "</style>\n",
       "<table border=\"1\" class=\"dataframe\">\n",
       "  <thead>\n",
       "    <tr style=\"text-align: right;\">\n",
       "      <th></th>\n",
       "      <th>flu_past_year</th>\n",
       "      <th>age</th>\n",
       "      <th>sex</th>\n",
       "      <th>self_health</th>\n",
       "      <th>education</th>\n",
       "      <th>has_doctor</th>\n",
       "      <th>is_immigrant</th>\n",
       "      <th>province</th>\n",
       "      <th>income</th>\n",
       "      <th>household_size</th>\n",
       "      <th>income_level</th>\n",
       "      <th>marital_status</th>\n",
       "      <th>children_in_household</th>\n",
       "    </tr>\n",
       "  </thead>\n",
       "  <tbody>\n",
       "    <tr>\n",
       "      <th>0</th>\n",
       "      <td>1</td>\n",
       "      <td>5</td>\n",
       "      <td>1</td>\n",
       "      <td>2</td>\n",
       "      <td>2</td>\n",
       "      <td>1</td>\n",
       "      <td>0</td>\n",
       "      <td>24</td>\n",
       "      <td>1</td>\n",
       "      <td>1</td>\n",
       "      <td>1</td>\n",
       "      <td>4</td>\n",
       "      <td>0</td>\n",
       "    </tr>\n",
       "    <tr>\n",
       "      <th>1</th>\n",
       "      <td>0</td>\n",
       "      <td>1</td>\n",
       "      <td>0</td>\n",
       "      <td>3</td>\n",
       "      <td>3</td>\n",
       "      <td>1</td>\n",
       "      <td>0</td>\n",
       "      <td>35</td>\n",
       "      <td>3</td>\n",
       "      <td>3</td>\n",
       "      <td>2</td>\n",
       "      <td>4</td>\n",
       "      <td>0</td>\n",
       "    </tr>\n",
       "    <tr>\n",
       "      <th>2</th>\n",
       "      <td>0</td>\n",
       "      <td>4</td>\n",
       "      <td>0</td>\n",
       "      <td>1</td>\n",
       "      <td>3</td>\n",
       "      <td>1</td>\n",
       "      <td>1</td>\n",
       "      <td>35</td>\n",
       "      <td>3</td>\n",
       "      <td>4</td>\n",
       "      <td>2</td>\n",
       "      <td>1</td>\n",
       "      <td>0</td>\n",
       "    </tr>\n",
       "    <tr>\n",
       "      <th>3</th>\n",
       "      <td>0</td>\n",
       "      <td>3</td>\n",
       "      <td>0</td>\n",
       "      <td>4</td>\n",
       "      <td>3</td>\n",
       "      <td>0</td>\n",
       "      <td>0</td>\n",
       "      <td>35</td>\n",
       "      <td>5</td>\n",
       "      <td>1</td>\n",
       "      <td>3</td>\n",
       "      <td>4</td>\n",
       "      <td>0</td>\n",
       "    </tr>\n",
       "    <tr>\n",
       "      <th>4</th>\n",
       "      <td>0</td>\n",
       "      <td>5</td>\n",
       "      <td>0</td>\n",
       "      <td>2</td>\n",
       "      <td>2</td>\n",
       "      <td>1</td>\n",
       "      <td>0</td>\n",
       "      <td>10</td>\n",
       "      <td>2</td>\n",
       "      <td>1</td>\n",
       "      <td>2</td>\n",
       "      <td>3</td>\n",
       "      <td>0</td>\n",
       "    </tr>\n",
       "  </tbody>\n",
       "</table>\n",
       "</div>"
      ],
      "text/plain": [
       "   flu_past_year  age  sex  self_health  education  has_doctor  is_immigrant  \\\n",
       "0              1    5    1            2          2           1             0   \n",
       "1              0    1    0            3          3           1             0   \n",
       "2              0    4    0            1          3           1             1   \n",
       "3              0    3    0            4          3           0             0   \n",
       "4              0    5    0            2          2           1             0   \n",
       "\n",
       "   province  income  household_size  income_level  marital_status  \\\n",
       "0        24       1               1             1               4   \n",
       "1        35       3               3             2               4   \n",
       "2        35       3               4             2               1   \n",
       "3        35       5               1             3               4   \n",
       "4        10       2               1             2               3   \n",
       "\n",
       "   children_in_household  \n",
       "0                      0  \n",
       "1                      0  \n",
       "2                      0  \n",
       "3                      0  \n",
       "4                      0  "
      ]
     },
     "execution_count": 52,
     "metadata": {},
     "output_type": "execute_result"
    }
   ],
   "source": [
    "# check that data is read in properly\n",
    "df2.head()"
   ]
  },
  {
   "cell_type": "code",
   "execution_count": 31,
   "metadata": {
    "scrolled": true
   },
   "outputs": [
    {
     "data": {
      "text/plain": [
       "0    0.627921\n",
       "1    0.372079\n",
       "Name: flu_past_year, dtype: float64"
      ]
     },
     "execution_count": 31,
     "metadata": {},
     "output_type": "execute_result"
    }
   ],
   "source": [
    "# display percentage of rows/participants with each class outcome to compare to classifier results\n",
    "\n",
    "df2['flu_past_year'].value_counts().sort_index()/len(df2)"
   ]
  },
  {
   "cell_type": "markdown",
   "metadata": {},
   "source": [
    "### Preparatory work for all analyses"
   ]
  },
  {
   "cell_type": "code",
   "execution_count": 25,
   "metadata": {
    "scrolled": true
   },
   "outputs": [
    {
     "data": {
      "text/plain": [
       "Index(['age', 'sex', 'self_health', 'education', 'has_doctor', 'is_immigrant',\n",
       "       'income', 'household_size', 'income_level', 'children_in_household',\n",
       "       'marital_status_2', 'marital_status_3', 'marital_status_4',\n",
       "       'province_10', 'province_11', 'province_12', 'province_13',\n",
       "       'province_24', 'province_46', 'province_47', 'province_48',\n",
       "       'province_59', 'province_60', 'province_61', 'province_62'],\n",
       "      dtype='object')"
      ]
     },
     "execution_count": 25,
     "metadata": {},
     "output_type": "execute_result"
    }
   ],
   "source": [
    "#make a new data frame with the independent variables #2-13\n",
    "X=df2[df2.columns[1:13]]\n",
    "\n",
    "# create dataframe that includes dummy variables for the marital status and province variables, as they are\n",
    "# the only two non-binary nominal variables\n",
    "X = pd.get_dummies(X, columns=['marital_status', 'province'])\n",
    "\n",
    "# make marital status of married (1) and province of Ontario (35) the baseline measurements by removing them\n",
    "X = X.drop(['marital_status_1', 'province_35'], axis=1)\n",
    "\n",
    "# confirm that correct variables are included\n",
    "X.columns"
   ]
  },
  {
   "cell_type": "code",
   "execution_count": 26,
   "metadata": {},
   "outputs": [],
   "source": [
    "#class series that includes only the classification/prediction variable (flu_last_year)\n",
    "y = df2.iloc[:,0]"
   ]
  },
  {
   "cell_type": "markdown",
   "metadata": {},
   "source": [
    "### Classifier 1: Logistic Regression"
   ]
  },
  {
   "cell_type": "code",
   "execution_count": 14,
   "metadata": {},
   "outputs": [],
   "source": [
    "# create test and train data\n",
    "\n",
    "X_trainLR, X_testLR, y_trainLR, y_testLR = train_test_split(X, y, test_size=0.33, random_state=0)\n",
    "\n",
    "# run classifier\n",
    "\n",
    "classifier = LogisticRegression(random_state=4)\n",
    "classifier.fit(X_trainLR, y_trainLR)\n",
    "y_predLR = classifier.predict(X_testLR)"
   ]
  },
  {
   "cell_type": "code",
   "execution_count": 39,
   "metadata": {},
   "outputs": [
    {
     "name": "stdout",
     "output_type": "stream",
     "text": [
      "[[17021  3277]\n",
      " [ 6736  5414]]\n"
     ]
    }
   ],
   "source": [
    "# create and dispay confusion matrix\n",
    "\n",
    "confusion_matrixLR = confusion_matrix(y_testLR, y_predLR)\n",
    "print(confusion_matrixLR)"
   ]
  },
  {
   "cell_type": "code",
   "execution_count": 17,
   "metadata": {},
   "outputs": [
    {
     "data": {
      "text/plain": [
       "0.6914139546351085"
      ]
     },
     "execution_count": 17,
     "metadata": {},
     "output_type": "execute_result"
    }
   ],
   "source": [
    "# display accuracy\n",
    "classifier.score(X_testLR, y_testLR)"
   ]
  },
  {
   "cell_type": "code",
   "execution_count": 19,
   "metadata": {},
   "outputs": [
    {
     "name": "stdout",
     "output_type": "stream",
     "text": [
      "             precision    recall  f1-score   support\n",
      "\n",
      "          0       0.72      0.84      0.77     20298\n",
      "          1       0.62      0.45      0.52     12150\n",
      "\n",
      "avg / total       0.68      0.69      0.68     32448\n",
      "\n"
     ]
    }
   ],
   "source": [
    "# display metrics (precision, recall, etc.)\n",
    "print(classification_report(y_testLR, y_predLR))"
   ]
  },
  {
   "cell_type": "markdown",
   "metadata": {},
   "source": [
    "### Results of Logistic Regression\n",
    "\n",
    "The overall accuracy is 69.1%.  This can be compared to the original percentage of persons not obtaining the flu shot of 62.8%, which would also be the accuracy if the classifier algorithm simply chose the majority class.\n",
    "\n",
    "The accuracy is 6.3% better than the original majority class; there may be some tweaking that can be done to improve it."
   ]
  },
  {
   "cell_type": "markdown",
   "metadata": {},
   "source": [
    "## Classifier 2: Random Forest"
   ]
  },
  {
   "cell_type": "code",
   "execution_count": 38,
   "metadata": {},
   "outputs": [],
   "source": [
    "# create test and train data\n",
    "\n",
    "X_trainRF, X_testRF, y_trainRF, y_testRF = train_test_split(X, y, test_size=0.33, random_state=0)\n",
    "\n",
    "# run classifier\n",
    "\n",
    "clf=RandomForestClassifier(n_estimators=100)\n",
    "clf.fit(X_trainRF,y_trainRF)\n",
    "y_predRF=clf.predict(X_testRF)"
   ]
  },
  {
   "cell_type": "code",
   "execution_count": 40,
   "metadata": {},
   "outputs": [
    {
     "name": "stdout",
     "output_type": "stream",
     "text": [
      "[[15814  4484]\n",
      " [ 6627  5523]]\n"
     ]
    }
   ],
   "source": [
    "# create and dispay confusion matrix\n",
    "\n",
    "confusion_matrixRF = confusion_matrix(y_testRF, y_predRF)\n",
    "print(confusion_matrixRF)"
   ]
  },
  {
   "cell_type": "code",
   "execution_count": 43,
   "metadata": {},
   "outputs": [
    {
     "data": {
      "text/plain": [
       "0.6575751972386588"
      ]
     },
     "execution_count": 43,
     "metadata": {},
     "output_type": "execute_result"
    }
   ],
   "source": [
    "# display accuracy\n",
    "clf.score(X_testRF, y_testRF)"
   ]
  },
  {
   "cell_type": "code",
   "execution_count": 44,
   "metadata": {
    "scrolled": true
   },
   "outputs": [
    {
     "name": "stdout",
     "output_type": "stream",
     "text": [
      "             precision    recall  f1-score   support\n",
      "\n",
      "          0       0.70      0.78      0.74     20298\n",
      "          1       0.55      0.45      0.50     12150\n",
      "\n",
      "avg / total       0.65      0.66      0.65     32448\n",
      "\n"
     ]
    }
   ],
   "source": [
    "# display metrics (precision, recall, etc.)\n",
    "print(classification_report(y_testRF, y_predRF))"
   ]
  },
  {
   "cell_type": "markdown",
   "metadata": {},
   "source": [
    "### Results of Random Forest\n",
    "\n",
    "The overall accuracy is 65.8%.  This can be compared to the original percentage of persons not obtaining the flu shot of 62.8%, which would also be the accuracy if the classifier algorithm simply chose the majority class. \n",
    "\n",
    "The accuracy is 3.0% better than the original majority class; there may be some tweaking that can be done to improve it."
   ]
  },
  {
   "cell_type": "markdown",
   "metadata": {},
   "source": [
    "## Classifier 3: Naive Bayes"
   ]
  },
  {
   "cell_type": "code",
   "execution_count": 47,
   "metadata": {},
   "outputs": [],
   "source": [
    "# create test and train data\n",
    "\n",
    "X_trainNB, X_testNB, y_trainNB, y_testNB = train_test_split(X, y, test_size=0.33, random_state=0)\n",
    "\n",
    "# run classifier\n",
    "\n",
    "model = GaussianNB()\n",
    "model.fit(X_trainNB,y_trainNB)\n",
    "y_predNB = model.predict(X_testNB)"
   ]
  },
  {
   "cell_type": "code",
   "execution_count": 48,
   "metadata": {},
   "outputs": [
    {
     "name": "stdout",
     "output_type": "stream",
     "text": [
      "[[13313  6985]\n",
      " [ 4702  7448]]\n"
     ]
    }
   ],
   "source": [
    "# create and dispay confusion matrix\n",
    "\n",
    "confusion_matrixNB = confusion_matrix(y_testNB, y_predNB)\n",
    "print(confusion_matrixNB)"
   ]
  },
  {
   "cell_type": "code",
   "execution_count": 49,
   "metadata": {},
   "outputs": [
    {
     "data": {
      "text/plain": [
       "0.639823717948718"
      ]
     },
     "execution_count": 49,
     "metadata": {},
     "output_type": "execute_result"
    }
   ],
   "source": [
    "# display accuracy\n",
    "model.score(X_testRF, y_testRF)"
   ]
  },
  {
   "cell_type": "code",
   "execution_count": 50,
   "metadata": {
    "scrolled": true
   },
   "outputs": [
    {
     "name": "stdout",
     "output_type": "stream",
     "text": [
      "             precision    recall  f1-score   support\n",
      "\n",
      "          0       0.74      0.66      0.69     20298\n",
      "          1       0.52      0.61      0.56     12150\n",
      "\n",
      "avg / total       0.66      0.64      0.64     32448\n",
      "\n"
     ]
    }
   ],
   "source": [
    "# display metrics (precision, recall, etc.)\n",
    "print(classification_report(y_testNB, y_predNB))"
   ]
  },
  {
   "cell_type": "markdown",
   "metadata": {},
   "source": [
    "### Results of Naive Bayes\n",
    "\n",
    "The overall accuracy is 64.0%.  This can be compared to the original percentage of persons not obtaining the flu shot of 62.8%, which would also be the accuracy if the classifier algorithm simply chose the majority class. \n",
    "\n",
    "The accuracy is 1.2% better than the original majority class; there may be some tweaking that can be done to improve it."
   ]
  },
  {
   "cell_type": "markdown",
   "metadata": {},
   "source": [
    "### Comparing Classifiers\n",
    "\n",
    "The Logistic Regression classifier performed the best in terms of accuracy, at 69.1%.  I still need to look at the results of the three classifiers in more details, and in particular look at precision, recall."
   ]
  },
  {
   "cell_type": "markdown",
   "metadata": {},
   "source": [
    "## _Section 2: Decision Tree Rules_"
   ]
  },
  {
   "cell_type": "code",
   "execution_count": 59,
   "metadata": {},
   "outputs": [],
   "source": [
    "#create tree model\n",
    "dtree = tree.DecisionTreeClassifier(criterion='entropy')\n",
    "dtree.fit(X, y)\n",
    "\n",
    "# export tree so that I can create the diagram in the http://webgraphviz.com/ program\n",
    "dotfile = open(\"dtree.dot\", 'w')\n",
    "tree.export_graphviz(dtree, out_file=dotfile, feature_names=X.columns)\n",
    "dotfile.close()"
   ]
  },
  {
   "cell_type": "markdown",
   "metadata": {},
   "source": [
    "The above code does run and creates a decision tree and  a file that can be imported into a visualization program, though it is so large that it cannot be easily visualized.\n",
    "\n",
    "I think there are some issues with the dummy variables, as in some cases, multiple provinces appear within the same rules (for example, province_12 < 0.5 and then later in the same rule/branch, province_60 < 0.5).  However, running it with the variables as integers causes problems as the algorithm then treats it like a numeric variable.  I need to look at this.\n",
    "\n",
    "I am still currently working through how to extract the top decision rules from Python, as it is not straightforward.  This will also likely lead to setting constraints for the decision tree algorithm in terms of how to select the 'best' rules.  For example, from the dtree.dot file above, I can see rules that look like:\n",
    "\n",
    "\n",
    "    1 [label=\"has_doctor <= 0.5\\nentropy = 0.829\\nsamples = 63689\\nvalue = [47032, 16657]\"] ; \n",
    "\n",
    "and then later rules that look like this:\n",
    "\n",
    "    84 [label=\"age <= 1.5\\nentropy = 0.985\\nsamples = 7\\nvalue = [3, 4]\"] ;\n",
    "\n",
    "These are obviously based on vastly different amounts of data, and I will need to set constraints to rate rules as 'best' rules only when they contain a certain minimum of results."
   ]
  }
 ],
 "metadata": {
  "kernelspec": {
   "display_name": "Python 3",
   "language": "python",
   "name": "python3"
  },
  "language_info": {
   "codemirror_mode": {
    "name": "ipython",
    "version": 3
   },
   "file_extension": ".py",
   "mimetype": "text/x-python",
   "name": "python",
   "nbconvert_exporter": "python",
   "pygments_lexer": "ipython3",
   "version": "3.7.0"
  }
 },
 "nbformat": 4,
 "nbformat_minor": 2
}
